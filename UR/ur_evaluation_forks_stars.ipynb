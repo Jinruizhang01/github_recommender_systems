{
 "cells": [
  {
   "cell_type": "code",
   "execution_count": 1,
   "metadata": {
    "collapsed": true
   },
   "outputs": [],
   "source": [
    "import pyspark\n",
    "import matplotlib.pyplot as plt\n",
    "\n",
    "from pyspark import SparkContext, SQLContext\n",
    "sc = pyspark.SparkContext('local[*]')\n",
    "sqlc = SQLContext(sc)"
   ]
  },
  {
   "cell_type": "code",
   "execution_count": 2,
   "metadata": {
    "collapsed": true
   },
   "outputs": [],
   "source": [
    "from pyspark.sql.functions import split, explode\n",
    "from pyspark.sql.functions import UserDefinedFunction as udf\n",
    "from pyspark.sql.types import StringType,FloatType, StructType, StructField, IntegerType\n",
    "from pyspark.sql import functions as F, Window\n",
    "from pyspark.sql.functions import *"
   ]
  },
  {
   "cell_type": "code",
   "execution_count": 3,
   "metadata": {
    "collapsed": true
   },
   "outputs": [],
   "source": [
    "import numpy as np\n",
    "import matplotlib.pyplot as plt\n",
    "%matplotlib inline"
   ]
  },
  {
   "cell_type": "code",
   "execution_count": 24,
   "metadata": {
    "collapsed": true
   },
   "outputs": [],
   "source": [
    "import pandas as pd"
   ]
  },
  {
   "cell_type": "code",
   "execution_count": 6,
   "metadata": {},
   "outputs": [],
   "source": [
    "predictions_train=sqlc.read.json('./data/ur_forks_stars_rec.json')\n"
   ]
  },
  {
   "cell_type": "code",
   "execution_count": 7,
   "metadata": {},
   "outputs": [
    {
     "data": {
      "text/plain": [
       "24225"
      ]
     },
     "execution_count": 7,
     "metadata": {},
     "output_type": "execute_result"
    }
   ],
   "source": [
    "predictions_train.count()"
   ]
  },
  {
   "cell_type": "code",
   "execution_count": 8,
   "metadata": {
    "collapsed": true
   },
   "outputs": [],
   "source": [
    "test_set=sqlc.read.csv('./data/forks_stars_sample_test.csv')\n"
   ]
  },
  {
   "cell_type": "code",
   "execution_count": 9,
   "metadata": {
    "collapsed": true
   },
   "outputs": [],
   "source": [
    "test_set = test_set.withColumnRenamed(\"_c0\", \"user_id\")\n",
    "test_set = test_set.withColumnRenamed(\"_c1\", \"repo_id\")\n",
    "test_set = test_set.withColumnRenamed(\"_c2\", \"created_at\")\n",
    "test_set= test_set.withColumnRenamed(\"_c3\",\"event\")\n"
   ]
  },
  {
   "cell_type": "code",
   "execution_count": 10,
   "metadata": {},
   "outputs": [
    {
     "name": "stdout",
     "output_type": "stream",
     "text": [
      "+--------+--------+--------------------+-----+---+---+\n",
      "| user_id| repo_id|          created_at|event|_c4|_c5|\n",
      "+--------+--------+--------------------+-----+---+---+\n",
      "| 1257187|72794607|2017-08-24 09:23:...| star| 10| 10|\n",
      "| 2530699|72275307|2017-08-17 11:13:...| star| 10| 10|\n",
      "| 6343011|54590580|2017-08-18 14:51:...| star| 10| 10|\n",
      "|   87179|70572848|2017-07-30 17:56:...| star| 10| 10|\n",
      "| 9468214|71762911|2017-08-21 06:31:...| star| 10| 10|\n",
      "|10524124|69294657|2017-08-30 15:42:...| star| 11| 11|\n",
      "|11605903|67579486|2017-07-18 14:57:...| fork| 11| 11|\n",
      "| 1595832|67486455|2017-08-03 13:29:...| star| 11| 11|\n",
      "| 1659818|70597953|2017-08-02 08:01:...| star| 11| 11|\n",
      "| 1741103|71963983|2017-08-22 18:59:...| star| 11| 11|\n",
      "| 2777053|55936096|2017-08-28 01:59:...| fork| 11| 11|\n",
      "|33505601|68233216|2017-07-20 20:45:...| fork| 11| 11|\n",
      "| 8076229|72495158|2017-08-21 04:07:...| star| 11| 11|\n",
      "| 8266172|55486950|2017-08-22 05:51:...| star| 11| 11|\n",
      "| 1825531|72275307|2017-08-29 01:52:...| star| 12| 12|\n",
      "| 3521304|71010727|2017-08-04 20:38:...| star| 12| 12|\n",
      "|   96675|68785107|2017-08-20 02:22:...| fork| 12| 12|\n",
      "|11006340|56830111|2017-08-19 03:22:...| star| 13| 13|\n",
      "|32439987|68023845|2017-08-04 14:58:...| star| 13| 13|\n",
      "| 3472673|70243547|2017-08-09 22:14:...| star| 13| 13|\n",
      "+--------+--------+--------------------+-----+---+---+\n",
      "only showing top 20 rows\n",
      "\n"
     ]
    }
   ],
   "source": [
    "test_set.show()"
   ]
  },
  {
   "cell_type": "code",
   "execution_count": 11,
   "metadata": {},
   "outputs": [
    {
     "name": "stdout",
     "output_type": "stream",
     "text": [
      "+--------------------+--------+\n",
      "|                 rec| user_id|\n",
      "+--------------------+--------+\n",
      "|[[55021487,0.0], ...|   82886|\n",
      "|[[58288948,0.3136...|10115499|\n",
      "|[[72558129,0.1713...| 1456072|\n",
      "|[[55714841,0.5334...|12196708|\n",
      "|[[68604188,2.6038...|36918139|\n",
      "|[[64597237,0.5386...|  170409|\n",
      "|[[61869903,0.6690...| 2809577|\n",
      "|[[68945047,0.4587...| 3526598|\n",
      "|[[56897739,0.9274...| 6072147|\n",
      "|[[55774251,0.2186...| 3226446|\n",
      "|[[69429719,0.1842...|   46291|\n",
      "|[[57199168,0.4081...|  841352|\n",
      "|[[64447990,0.5380...| 4878994|\n",
      "|[[59371509,0.2022...|    1542|\n",
      "|[[54500534,1.6585...|31803182|\n",
      "|[[65400831,0.3684...| 5925988|\n",
      "|[[68929881,0.5610...|11691229|\n",
      "|[[57712080,0.2935...| 6835070|\n",
      "|[[68086609,0.6160...|  166000|\n",
      "|[[61242517,0.1019...| 1902994|\n",
      "+--------------------+--------+\n",
      "only showing top 20 rows\n",
      "\n"
     ]
    }
   ],
   "source": [
    "predictions_train.show()"
   ]
  },
  {
   "cell_type": "markdown",
   "metadata": {},
   "source": [
    "### Preparation of the prediction data set"
   ]
  },
  {
   "cell_type": "code",
   "execution_count": 12,
   "metadata": {
    "collapsed": true
   },
   "outputs": [],
   "source": [
    "predictions_train=predictions_train.withColumn('scores',explode('rec'))\n",
    "predictions_train=predictions_train.withColumn('repo_id',predictions_train.scores['item'])\\\n",
    "                       .withColumn('score',predictions_train.scores['score'])\n",
    "\n",
    "predictions_train=predictions_train.select('user_id','repo_id','score')\n"
   ]
  },
  {
   "cell_type": "markdown",
   "metadata": {},
   "source": [
    "### For each user order repos by score"
   ]
  },
  {
   "cell_type": "code",
   "execution_count": 15,
   "metadata": {
    "collapsed": true
   },
   "outputs": [],
   "source": [
    "w=(Window.partitionBy('user_id').orderBy(col('score').desc()).rowsBetween(Window.unboundedPreceding, Window.currentRow))\n",
    "predictions_train=predictions_train.withColumn('reccomendations',F.count('user_id').over(w))"
   ]
  },
  {
   "cell_type": "code",
   "execution_count": 16,
   "metadata": {},
   "outputs": [
    {
     "name": "stdout",
     "output_type": "stream",
     "text": [
      "+--------+--------+-------------------+---------------+\n",
      "| user_id| repo_id|              score|reccomendations|\n",
      "+--------+--------+-------------------+---------------+\n",
      "|10013904|68785107|  1.570141077041626|              1|\n",
      "|10013904|61798405|  1.183546781539917|              2|\n",
      "|10013904|65481637|  1.144757866859436|              3|\n",
      "|10013904|64535847| 1.1407822370529175|              4|\n",
      "|10013904|64253797| 1.1407822370529175|              5|\n",
      "|10013904|54768394|  1.117347240447998|              6|\n",
      "|10013904|57507098|  1.117347240447998|              7|\n",
      "|10013904|65200326|  1.117347240447998|              8|\n",
      "|10013904|55310803| 1.1072978973388672|              9|\n",
      "|10013904|55936096| 1.1072978973388672|             10|\n",
      "|10013904|58632066| 1.1072978973388672|             11|\n",
      "|10013904|56132918| 1.0467606782913208|             12|\n",
      "|10013904|60254642| 1.0467606782913208|             13|\n",
      "|10013904|67048455| 1.0467606782913208|             14|\n",
      "|10013904|59517760| 1.0467606782913208|             15|\n",
      "|10013904|59372276| 0.6310744285583496|             16|\n",
      "|10013904|55150122|0.33013439178466797|             17|\n",
      "|10013904|56455777| 0.3284166157245636|             18|\n",
      "|10013904|55021487|                0.0|             19|\n",
      "|10013904|54498952|                0.0|             20|\n",
      "+--------+--------+-------------------+---------------+\n",
      "only showing top 20 rows\n",
      "\n"
     ]
    }
   ],
   "source": [
    "predictions_train.show()"
   ]
  },
  {
   "cell_type": "markdown",
   "metadata": {},
   "source": [
    "### Take scores>0"
   ]
  },
  {
   "cell_type": "code",
   "execution_count": 17,
   "metadata": {
    "collapsed": true
   },
   "outputs": [],
   "source": [
    "predictions_final=predictions_train.filter('score>0')"
   ]
  },
  {
   "cell_type": "markdown",
   "metadata": {},
   "source": [
    "## How many forks in the test set are predicted from UR?"
   ]
  },
  {
   "cell_type": "code",
   "execution_count": 18,
   "metadata": {
    "collapsed": true
   },
   "outputs": [],
   "source": [
    "predictions_final=predictions_final.select(col('user_id').alias('p_user_id'),col('repo_id').alias('p_repo_id'),'score')\n",
    "\n",
    "test_forks=test_set.filter(test_set.event=='fork')\n",
    "\n",
    "test_join=test_forks.join(predictions_final,(test_forks.user_id==predictions_final.p_user_id)\\\n",
    "                   & (test_forks.repo_id==predictions_final.p_repo_id),'left')"
   ]
  },
  {
   "cell_type": "code",
   "execution_count": 19,
   "metadata": {},
   "outputs": [
    {
     "data": {
      "text/plain": [
       "0.609072375127421"
      ]
     },
     "execution_count": 19,
     "metadata": {},
     "output_type": "execute_result"
    }
   ],
   "source": [
    "test_join.filter('p_repo_id is not null').count()/test_forks.count()  "
   ]
  },
  {
   "cell_type": "markdown",
   "metadata": {
    "collapsed": true
   },
   "source": [
    "## Distribution of scores on the test set"
   ]
  },
  {
   "cell_type": "code",
   "execution_count": 20,
   "metadata": {
    "collapsed": true
   },
   "outputs": [],
   "source": [
    "test_scores=test_join.filter('p_repo_id is not null')"
   ]
  },
  {
   "cell_type": "code",
   "execution_count": 21,
   "metadata": {
    "collapsed": true
   },
   "outputs": [],
   "source": [
    "l=test_scores.select('score').rdd.map(lambda x: x.score).collect()"
   ]
  },
  {
   "cell_type": "code",
   "execution_count": 22,
   "metadata": {
    "collapsed": true
   },
   "outputs": [],
   "source": [
    "l_norm=(l-np.min(l))/(np.max(l)-np.min(l))"
   ]
  },
  {
   "cell_type": "code",
   "execution_count": 25,
   "metadata": {},
   "outputs": [
    {
     "data": {
      "text/plain": [
       "<matplotlib.text.Text at 0x7f56052960b8>"
      ]
     },
     "execution_count": 25,
     "metadata": {},
     "output_type": "execute_result"
    },
    {
     "data": {
      "image/png": "[encoded data removed]",
      "text/plain": [
       "<matplotlib.figure.Figure at 0x7f563410b1d0>"
      ]
     },
     "metadata": {},
     "output_type": "display_data"
    }
   ],
   "source": [
    "pd.DataFrame(l_norm,columns=['score']).plot.hist() #1 user has 14.000 stars\n",
    "#fig.title('Distribution of stars by user')\n",
    "plt.xlabel('scores', fontsize=14)\n",
    "plt.ylabel('number of tests', fontsize=14)\n",
    "plt.title('UR scores test', fontsize=17)\n",
    "\n",
    "plt.savefig('ur_score_test.png')"
   ]
  },
  {
   "cell_type": "code",
   "execution_count": 26,
   "metadata": {
    "collapsed": true
   },
   "outputs": [],
   "source": [
    "sc.stop()"
   ]
  },
  {
   "cell_type": "code",
   "execution_count": null,
   "metadata": {
    "collapsed": true
   },
   "outputs": [],
   "source": []
  }
 ],
 "metadata": {
  "kernelspec": {
   "display_name": "Python 3",
   "language": "python",
   "name": "python3"
  },
  "language_info": {
   "codemirror_mode": {
    "name": "ipython",
    "version": 3
   },
   "file_extension": ".py",
   "mimetype": "text/x-python",
   "name": "python",
   "nbconvert_exporter": "python",
   "pygments_lexer": "ipython3",
   "version": "3.6.1"
  }
 },
 "nbformat": 4,
 "nbformat_minor": 2
}
