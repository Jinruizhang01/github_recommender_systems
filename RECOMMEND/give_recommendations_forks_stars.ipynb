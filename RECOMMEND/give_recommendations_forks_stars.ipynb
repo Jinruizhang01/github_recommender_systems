{
 "cells": [
  {
   "cell_type": "code",
   "execution_count": 1,
   "metadata": {
    "collapsed": true
   },
   "outputs": [],
   "source": [
    "import pyspark\n",
    "from pyspark import SparkContext, SQLContext\n",
    "sc = pyspark.SparkContext('local[*]')\n",
    "sqlc = SQLContext(sc)"
   ]
  },
  {
   "cell_type": "code",
   "execution_count": 2,
   "metadata": {
    "collapsed": true
   },
   "outputs": [],
   "source": [
    "from pyspark.sql import functions as F, Window\n",
    "from pyspark.sql.functions import *\n",
    "from pyspark.ml.recommendation import ALSModel\n",
    "from pyspark.sql import Row\n",
    "from pyspark.sql.functions import desc\n"
   ]
  },
  {
   "cell_type": "code",
   "execution_count": 4,
   "metadata": {
    "collapsed": true
   },
   "outputs": [],
   "source": [
    "import json\n",
    "import sqlite3"
   ]
  },
  {
   "cell_type": "markdown",
   "metadata": {},
   "source": [
    "### Load Data for als"
   ]
  },
  {
   "cell_type": "code",
   "execution_count": 8,
   "metadata": {},
   "outputs": [],
   "source": [
    "file_path=!pwd"
   ]
  },
  {
   "cell_type": "code",
   "execution_count": 11,
   "metadata": {},
   "outputs": [],
   "source": [
    "users=sqlc.read.json(file_path[0]+'/data/users.json')\n",
    "als_data=sqlc.read.json(file_path[0]+'/data/forks_stars_sample_prepared.json')\n",
    "repos=sqlc.read.json(file_path[0]+'/data/projects_not_forked_2017.json')\n"
   ]
  },
  {
   "cell_type": "code",
   "execution_count": 7,
   "metadata": {},
   "outputs": [
    {
     "data": {
      "text/plain": [
       "24225"
      ]
     },
     "execution_count": 7,
     "metadata": {},
     "output_type": "execute_result"
    }
   ],
   "source": [
    "als_data.select('user_id').distinct().count()"
   ]
  },
  {
   "cell_type": "code",
   "execution_count": 13,
   "metadata": {},
   "outputs": [],
   "source": [
    "pred_ur=sqlc.read.json(file_path[0]+'/data/forks_stars_sample_ur_predictions_train.json')\n"
   ]
  },
  {
   "cell_type": "code",
   "execution_count": 9,
   "metadata": {},
   "outputs": [
    {
     "data": {
      "text/plain": [
       "24225"
      ]
     },
     "execution_count": 9,
     "metadata": {},
     "output_type": "execute_result"
    }
   ],
   "source": [
    "pred_ur.select('user_id').distinct().count()"
   ]
  },
  {
   "cell_type": "code",
   "execution_count": 15,
   "metadata": {},
   "outputs": [],
   "source": [
    "model=ALSModel.load(file_path[0]+'/data/als_sample_r10_i10_reg01_fs.parquet')"
   ]
  },
  {
   "cell_type": "code",
   "execution_count": 16,
   "metadata": {
    "collapsed": true
   },
   "outputs": [],
   "source": [
    "als_data=als_data.select('repo_id','repo_idn','user_id','user_idn')"
   ]
  },
  {
   "cell_type": "code",
   "execution_count": 17,
   "metadata": {
    "collapsed": true
   },
   "outputs": [],
   "source": [
    "repos=repos.select(col('id').alias('repo_id'),'owner_id','name')"
   ]
  },
  {
   "cell_type": "code",
   "execution_count": 18,
   "metadata": {
    "collapsed": true
   },
   "outputs": [],
   "source": [
    "repos=repos.join(users.select('id',col('login').alias('owner')),users.id==repos.owner_id,'left')"
   ]
  },
  {
   "cell_type": "markdown",
   "metadata": {},
   "source": [
    "### Find info about users and repositories contained in als data"
   ]
  },
  {
   "cell_type": "code",
   "execution_count": 19,
   "metadata": {},
   "outputs": [
    {
     "data": {
      "text/plain": [
       "DataFrame[user_id: string, repo_id: string, repo_idn: double, user_idn: double, login: string]"
      ]
     },
     "execution_count": 19,
     "metadata": {},
     "output_type": "execute_result"
    }
   ],
   "source": [
    "als_data"
   ]
  },
  {
   "cell_type": "code",
   "execution_count": 10,
   "metadata": {
    "collapsed": true
   },
   "outputs": [],
   "source": [
    "als_data=als_data.join(users.select(col('id').alias('user_id'),'login'),'user_id','inner')\n",
    "als_repos=repos.join(als_data.select('repo_id','repo_idn').distinct(),'repo_id','inner') #repos from the model#"
   ]
  },
  {
   "cell_type": "code",
   "execution_count": 20,
   "metadata": {},
   "outputs": [
    {
     "data": {
      "text/plain": [
       "652596"
      ]
     },
     "execution_count": 20,
     "metadata": {},
     "output_type": "execute_result"
    }
   ],
   "source": [
    "als_data.count()"
   ]
  },
  {
   "cell_type": "code",
   "execution_count": 44,
   "metadata": {},
   "outputs": [
    {
     "data": {
      "text/plain": [
       "1269"
      ]
     },
     "execution_count": 44,
     "metadata": {},
     "output_type": "execute_result"
    }
   ],
   "source": [
    "als_repos.count()"
   ]
  },
  {
   "cell_type": "code",
   "execution_count": 45,
   "metadata": {},
   "outputs": [
    {
     "data": {
      "text/plain": [
       "1269"
      ]
     },
     "execution_count": 45,
     "metadata": {},
     "output_type": "execute_result"
    }
   ],
   "source": [
    "als_data.select('repo_id').distinct().count()"
   ]
  },
  {
   "cell_type": "code",
   "execution_count": 111,
   "metadata": {},
   "outputs": [
    {
     "name": "stdout",
     "output_type": "stream",
     "text": [
      "+--------+--------+--------------------+--------+-----------------+--------+\n",
      "| repo_id|owner_id|                name|      id|            owner|repo_idn|\n",
      "+--------+--------+--------------------+--------+-----------------+--------+\n",
      "|53840452|  177657|         caddy-blink|  177657|            mholt| 99589.0|\n",
      "|53842956|31145670|DDDUR2016F_514202...|31145670|       skyfalls17|190141.0|\n",
      "|53847115|31161344|           StockTech|31161344|csxiaoyaojianxian| 56870.0|\n",
      "|53850999| 6138279|             restapi| 6138279|            alesr|260826.0|\n",
      "|53854062| 1269595|               phell| 1269595|           gale93|179341.0|\n",
      "|53860467|    5441|                echo|    5441|  kelseyhightower|  7911.0|\n",
      "|53875996| 2654229|    swing-ble-tester| 2654229|         yenchieh|202871.0|\n",
      "|53896628|33246187|               shard|33246187|         ShardApp| 79958.0|\n",
      "|53920311| 1267544| GoogleCalendarSkill| 1267544|          jcasoft|204892.0|\n",
      "|53930706|33162225|             website|33162225| factcheckthenews|234500.0|\n",
      "|53930879|30774463|         dockerfiles|30774463|         floydhub| 12016.0|\n",
      "|53938936|   15413|accessible-color-...|   15413|         toolness|  4513.0|\n",
      "|53957152|   52126|       declutter-elm|   52126|           chillu|195436.0|\n",
      "|53957446| 3581807|        cqrs-example| 3581807|      RisingStack| 14458.0|\n",
      "|53960356| 2301470|       bubble-client| 2301470|            ndt93|157311.0|\n",
      "|53966826|32746700|         qadoor_site|32746700|           qadoor|178516.0|\n",
      "|53995088|21831491|           simonsays|21831491|          lumodon|248984.0|\n",
      "|53997984|30498537|            About-Me|30498537|         ssterli2|128296.0|\n",
      "|54000291| 1378051|              promo7| 1378051|   davidostermann|268105.0|\n",
      "|54002017|32802201|          transforms|32802201|         go-audio| 66529.0|\n",
      "+--------+--------+--------------------+--------+-----------------+--------+\n",
      "only showing top 20 rows\n",
      "\n"
     ]
    }
   ],
   "source": [
    "als_repos.show()"
   ]
  },
  {
   "cell_type": "markdown",
   "metadata": {},
   "source": [
    "## Recommendations for ALS"
   ]
  },
  {
   "cell_type": "markdown",
   "metadata": {},
   "source": [
    "### Easy way"
   ]
  },
  {
   "cell_type": "code",
   "execution_count": 20,
   "metadata": {
    "collapsed": true
   },
   "outputs": [],
   "source": [
    "als_recs=model.recommendForAllUsers(30)\n",
    "als_recs=als_recs.withColumn('scores',explode('recommendations'))\n",
    "als_recs=als_recs.withColumn('repo_idn',als_recs.scores['repo_idn'])\\\n",
    "                           .withColumn('score',als_recs.scores['rating'])"
   ]
  },
  {
   "cell_type": "code",
   "execution_count": 21,
   "metadata": {
    "collapsed": true
   },
   "outputs": [],
   "source": [
    "# find users and repo infos\n",
    "\n",
    "als_recs=als_recs.select('user_idn','repo_idn','score').join(als_data.select('user_idn','login').distinct(),'user_idn','inner')"
   ]
  },
  {
   "cell_type": "code",
   "execution_count": 22,
   "metadata": {
    "collapsed": true
   },
   "outputs": [],
   "source": [
    "als_recs=als_recs.join(als_repos.select('repo_idn','name'),'repo_idn','left')"
   ]
  },
  {
   "cell_type": "code",
   "execution_count": 23,
   "metadata": {},
   "outputs": [
    {
     "name": "stdout",
     "output_type": "stream",
     "text": [
      "+--------+--------+----------+------+--------------------+\n",
      "|repo_idn|user_idn|     score| login|                name|\n",
      "+--------+--------+----------+------+--------------------+\n",
      "|       8|   15972| 0.9017224|iver56|API-Security-Chec...|\n",
      "|     442|   15972|  0.901715|iver56|devportfolio-temp...|\n",
      "|     116|   15972| 0.9017494|iver56|      node-interview|\n",
      "|      29|   15972| 0.9017723|iver56|hiring-without-wh...|\n",
      "|      64|   15972|0.90172666|iver56|        tamperchrome|\n",
      "|      44|   15972|0.90173244|iver56|digital_video_int...|\n",
      "|      35|   15972|  0.901804|iver56| lottie-react-native|\n",
      "|      96|   15972| 0.9017681|iver56|             seq2seq|\n",
      "|    1157|   15972| 0.9017875|iver56|        awesome-bots|\n",
      "|       1|   15972|   0.90179|iver56|Best-websites-a-p...|\n",
      "|     408|   15972| 0.9017996|iver56|   react-native-node|\n",
      "|     421|   15972|  0.901723|iver56|    vue-recyclerview|\n",
      "|     833|   15972| 0.9017478|iver56|career-developmen...|\n",
      "|     435|   15972| 0.9017252|iver56|                gain|\n",
      "|     282|   15972| 0.9017213|iver56| face_classification|\n",
      "|      50|   15972|0.90175754|iver56|    react-navigation|\n",
      "|      22|   15972|  0.901917|iver56|Become-A-Full-Sta...|\n",
      "|       3|   15972|0.90172756|iver56|design-patterns-f...|\n",
      "|       2|   15972| 0.9017266|iver56|system-design-primer|\n",
      "|      57|   15972| 0.9017481|iver56|lowlevelprogrammi...|\n",
      "|     371|   15972|  0.901791|iver56|       deep-learning|\n",
      "|      17|   15972|  0.901739|iver56|            reactide|\n",
      "|      10|   15972| 0.9017147|iver56|     react-sketchapp|\n",
      "|     316|   15972|0.90174323|iver56|             markvis|\n",
      "|     589|   15972| 0.9017245|iver56|                 vms|\n",
      "|       5|   15972|  0.901806|iver56|         learn-regex|\n",
      "|      15|   15972|0.90172476|iver56|spellbook-of-mode...|\n",
      "|      26|   15972| 0.9017371|iver56|                gtop|\n",
      "|      16|   15972| 0.9017257|iver56|deep-photo-stylet...|\n",
      "|      12|   15972|0.90175045|iver56|          Interviews|\n",
      "+--------+--------+----------+------+--------------------+\n",
      "\n"
     ]
    }
   ],
   "source": [
    "als_recs.filter(\"login='iver56'\").show(30)"
   ]
  },
  {
   "cell_type": "markdown",
   "metadata": {},
   "source": [
    "### Alternative way"
   ]
  },
  {
   "cell_type": "code",
   "execution_count": 11,
   "metadata": {
    "collapsed": true
   },
   "outputs": [],
   "source": [
    "def transform_to_json(row):\n",
    "    return {row.repo_idn :{'name':row.name,'owner': row.owner}}\n",
    "\n",
    "list_repos=als_repos.select('repo_idn','name','owner').rdd.map(transform_to_json).collect()\n",
    "\n",
    "dict_repos={k:v for d in list_repos for k,v in d.items()}\n"
   ]
  },
  {
   "cell_type": "code",
   "execution_count": 42,
   "metadata": {
    "collapsed": true
   },
   "outputs": [],
   "source": [
    "def give_rec(df,username,n):\n",
    "    user=df.filter(df.login==username).select(df.user_idn).rdd.map(lambda x: x.user_idn).collect()[0]\n",
    "    already_fs=df.filter(df.login==username).select(df.repo_idn).rdd.map(lambda x: x.repo_idn).collect()\n",
    "    new_repos=list(set(list(dict_repos.keys()))-set(already_fs))\n",
    "    user_rows = [Row(user_idn=user, \n",
    "                 repo_idn=float(i)) for i in new_repos]\n",
    "    user_df = sqlc.createDataFrame(user_rows)\n",
    "    user_predictions=model.transform(user_df).na.fill(-5.0)\n",
    "    top_predictions=user_predictions.sort('prediction',ascending=False).select('repo_idn','prediction')\\\n",
    "                                    .rdd.map(lambda x: (x.repo_idn,x.prediction)).take(n)\n",
    "    links=[]\n",
    "    scores=[]\n",
    "    for x,y in top_predictions:\n",
    "        link=r'https://github.com/'+dict_repos[x]['owner']+'/'+dict_repos[x]['name']\n",
    "        links.append(link)\n",
    "        scores.append('%.4f' % y)\n",
    "    d_links=dict()\n",
    "    d_scores=dict()\n",
    "    d_links['links']=links\n",
    "    d_scores['scores']=scores\n",
    "    return [json.dumps(d_links),json.dumps(d_scores)]                       \n",
    "    "
   ]
  },
  {
   "cell_type": "code",
   "execution_count": 43,
   "metadata": {},
   "outputs": [
    {
     "data": {
      "text/plain": [
       "['{\"links\": [\"https://github.com/bmorelli25/Become-A-Full-Stack-Web-Developer\", \"https://github.com/zeeshanu/learn-regex\", \"https://github.com/airbnb/lottie-react-native\", \"https://github.com/STALTZ/react-native-node\", \"https://github.com/sdmg15/Best-websites-a-programmer-should-visit\"]}',\n",
       " '{\"scores\": [\"0.9019\", \"0.9018\", \"0.9018\", \"0.9018\", \"0.9018\"]}']"
      ]
     },
     "execution_count": 43,
     "metadata": {},
     "output_type": "execute_result"
    }
   ],
   "source": [
    "give_rec(als_data,username='michcioperz',n=5)"
   ]
  },
  {
   "cell_type": "markdown",
   "metadata": {},
   "source": [
    "### Find info about users and repositories in pred_ur"
   ]
  },
  {
   "cell_type": "code",
   "execution_count": 25,
   "metadata": {
    "collapsed": true
   },
   "outputs": [],
   "source": [
    "pred_ur=pred_ur.withColumn('scores',explode('rec'))\n",
    "pred_ur=pred_ur.withColumn('repo_id',pred_ur.scores['item'])\\\n",
    "                       .withColumn('score',pred_ur.scores['score'])\n",
    "\n",
    "pred_ur=pred_ur.select('user_id','repo_id','score')"
   ]
  },
  {
   "cell_type": "code",
   "execution_count": 26,
   "metadata": {
    "collapsed": true
   },
   "outputs": [],
   "source": [
    "pred_ur=pred_ur.join(users.select(col('id').alias('user_id'),'login'),'user_id','inner')\n",
    "pred_ur=pred_ur.join(repos.select('repo_id','name','owner'),'repo_id','left')\n"
   ]
  },
  {
   "cell_type": "code",
   "execution_count": 27,
   "metadata": {},
   "outputs": [
    {
     "data": {
      "text/plain": [
       "DataFrame[repo_id: string, user_id: string, score: double, login: string, name: string, owner: string]"
      ]
     },
     "execution_count": 27,
     "metadata": {},
     "output_type": "execute_result"
    }
   ],
   "source": [
    "pred_ur.cache()"
   ]
  },
  {
   "cell_type": "code",
   "execution_count": 28,
   "metadata": {},
   "outputs": [
    {
     "data": {
      "text/plain": [
       "DataFrame[user_id: string, repo_id: string, repo_idn: double, user_idn: double, login: string]"
      ]
     },
     "execution_count": 28,
     "metadata": {},
     "output_type": "execute_result"
    }
   ],
   "source": [
    "als_data.cache()"
   ]
  },
  {
   "cell_type": "code",
   "execution_count": 29,
   "metadata": {
    "collapsed": true
   },
   "outputs": [],
   "source": [
    "w=(Window.partitionBy('user_id').orderBy(col('score').desc()).rowsBetween(Window.unboundedPreceding, Window.currentRow))\n",
    "pred_ur=pred_ur.withColumn('recs',F.count('user_id').over(w))"
   ]
  },
  {
   "cell_type": "code",
   "execution_count": 30,
   "metadata": {},
   "outputs": [
    {
     "name": "stdout",
     "output_type": "stream",
     "text": [
      "+--------+--------+-------------------+--------+--------------------+-------------+----+\n",
      "| repo_id| user_id|              score|   login|                name|        owner|recs|\n",
      "+--------+--------+-------------------+--------+--------------------+-------------+----+\n",
      "|68785107|10013904|  1.570141077041626|morganel|CarND-Semantic-Se...|      udacity|   1|\n",
      "|61798405|10013904|  1.183546781539917|morganel|           aind2-cnn|      udacity|   2|\n",
      "|65481637|10013904|  1.144757866859436|morganel|RoboND-Rover-Project|      udacity|   3|\n",
      "|64535847|10013904| 1.1407822370529175|morganel|   CarND-MPC-Quizzes|      udacity|   4|\n",
      "|64253797|10013904| 1.1407822370529175|morganel|            aind2-dl|      udacity|   5|\n",
      "|57507098|10013904|  1.117347240447998|morganel|AIND-Simulated_An...|      udacity|   6|\n",
      "|54768394|10013904|  1.117347240447998|morganel|         aind-sudoku|      udacity|   7|\n",
      "|65200326|10013904|  1.117347240447998|morganel|       AIND-CV-Mimic|      udacity|   8|\n",
      "|55936096|10013904| 1.1072978973388672|morganel|       deep-learning|      udacity|   9|\n",
      "|55310803|10013904| 1.1072978973388672|morganel|CarND-Vehicle-Det...|      udacity|  10|\n",
      "|58632066|10013904| 1.1072978973388672|morganel|CarND-Mercedes-SF...|      udacity|  11|\n",
      "|56132918|10013904| 1.0467606782913208|morganel|CarND-Behavioral-...|      udacity|  12|\n",
      "|59517760|10013904| 1.0467606782913208|morganel|AIND-Constraint_S...|      udacity|  13|\n",
      "|60254642|10013904| 1.0467606782913208|morganel|         dog-project|      udacity|  14|\n",
      "|67048455|10013904| 1.0467606782913208|morganel|CarND-Path-Planni...|      udacity|  15|\n",
      "|59372276|10013904| 0.6310744285583496|morganel|          Android_Me|      udacity|  16|\n",
      "|55150122|10013904|0.33013439178466797|morganel|     CarND-Keras-Lab|      udacity|  17|\n",
      "|56455777|10013904| 0.3284166157245636|morganel|self-driving-car-sim|      udacity|  18|\n",
      "|55021487|10013904|                0.0|morganel|lab-css-instagram...|ironhack-labs|  19|\n",
      "|54498952|10013904|                0.0|morganel|lab-jquery-pizza-...|ironhack-labs|  20|\n",
      "+--------+--------+-------------------+--------+--------------------+-------------+----+\n",
      "only showing top 20 rows\n",
      "\n"
     ]
    }
   ],
   "source": [
    "pred_ur.show()"
   ]
  },
  {
   "cell_type": "markdown",
   "metadata": {},
   "source": [
    "### Get recommendations for ur"
   ]
  },
  {
   "cell_type": "code",
   "execution_count": 44,
   "metadata": {
    "collapsed": true
   },
   "outputs": [],
   "source": [
    "def ur_give_rec(df,username,n):\n",
    "    user_repos=df.filter(df.login==username).filter(df.recs<=n).select('name','owner')\\\n",
    "                                            .rdd.map(lambda x: (x.name,x.owner)).collect()\n",
    "    user_scores=df.filter(df.login==username).filter(df.recs<=n).select('score')\\\n",
    "                                             .rdd.map(lambda x: x.score).collect()\n",
    "    d_links=dict()\n",
    "    d_scores=dict()\n",
    "    d_links['links']=[r'https://github.com/'+y+'/'+x for (x,y) in user_repos]\n",
    "    d_scores['scores']=['%.4f' % score for score in user_scores]\n",
    "    return [json.dumps(d_links),json.dumps(d_scores)] "
   ]
  },
  {
   "cell_type": "code",
   "execution_count": 45,
   "metadata": {},
   "outputs": [
    {
     "data": {
      "text/plain": [
       "['{\"links\": [\"https://github.com/bmorelli25/Become-A-Full-Stack-Web-Developer\", \"https://github.com/zeeshanu/learn-regex\", \"https://github.com/airbnb/lottie-react-native\", \"https://github.com/STALTZ/react-native-node\", \"https://github.com/sdmg15/Best-websites-a-programmer-should-visit\"]}',\n",
       " '{\"scores\": [\"0.9019\", \"0.9018\", \"0.9018\", \"0.9018\", \"0.9018\"]}']"
      ]
     },
     "execution_count": 45,
     "metadata": {},
     "output_type": "execute_result"
    }
   ],
   "source": [
    "give_rec(als_data,username='michcioperz',n=5)"
   ]
  },
  {
   "cell_type": "code",
   "execution_count": 46,
   "metadata": {},
   "outputs": [
    {
     "data": {
      "text/plain": [
       "['{\"links\": [\"https://github.com/k4m4/terminals-are-sexy\", \"https://github.com/aguinet/wannakey\", \"https://github.com/gentilkiwi/wanakiwi\", \"https://github.com/s0lst1c3/eaphammer\", \"https://github.com/GoogleChrome/puppeteer\"]}',\n",
       " '{\"scores\": [\"0.1941\", \"0.1905\", \"0.1893\", \"0.1585\", \"0.1452\"]}']"
      ]
     },
     "execution_count": 46,
     "metadata": {},
     "output_type": "execute_result"
    }
   ],
   "source": [
    "ur_give_rec(pred_ur,username='michcioperz',n=5)"
   ]
  },
  {
   "cell_type": "markdown",
   "metadata": {},
   "source": [
    "### Save results in a SQlite db"
   ]
  },
  {
   "cell_type": "code",
   "execution_count": 47,
   "metadata": {
    "collapsed": true
   },
   "outputs": [],
   "source": [
    "users_sample=als_data.select('login').distinct().limit(10).rdd.map(lambda x: x.login).collect()"
   ]
  },
  {
   "cell_type": "code",
   "execution_count": 76,
   "metadata": {},
   "outputs": [
    {
     "data": {
      "text/plain": [
       "['michcioperz',\n",
       " 'iver56',\n",
       " 'T-Rex',\n",
       " 'skyleronken',\n",
       " 'amaanite890',\n",
       " 'andyeskridge',\n",
       " 'miofthena',\n",
       " 'wrahim',\n",
       " 'Xu-TikT',\n",
       " 'jescalan']"
      ]
     },
     "execution_count": 76,
     "metadata": {},
     "output_type": "execute_result"
    }
   ],
   "source": [
    "users_sample"
   ]
  },
  {
   "cell_type": "code",
   "execution_count": 48,
   "metadata": {
    "collapsed": true
   },
   "outputs": [],
   "source": [
    "conn = sqlite3.connect('database_reccom.db')\n",
    "c = conn.cursor()\n"
   ]
  },
  {
   "cell_type": "code",
   "execution_count": 49,
   "metadata": {},
   "outputs": [
    {
     "data": {
      "text/plain": [
       "<sqlite3.Cursor at 0x7eff93161180>"
      ]
     },
     "execution_count": 49,
     "metadata": {},
     "output_type": "execute_result"
    }
   ],
   "source": [
    "c.execute('''DROP TABLE als_rec''')"
   ]
  },
  {
   "cell_type": "code",
   "execution_count": 50,
   "metadata": {},
   "outputs": [
    {
     "data": {
      "text/plain": [
       "<sqlite3.Cursor at 0x7eff93161180>"
      ]
     },
     "execution_count": 50,
     "metadata": {},
     "output_type": "execute_result"
    }
   ],
   "source": [
    "c.execute('''CREATE TABLE als_rec (name text, rec text, scores text)''')"
   ]
  },
  {
   "cell_type": "code",
   "execution_count": 52,
   "metadata": {
    "collapsed": true
   },
   "outputs": [],
   "source": [
    "for item in users_sample:\n",
    "    c.execute(\"INSERT INTO als_rec VALUES ('%s','%s', '%s')\" % (item,give_rec(als_data,item,n=5)[0],give_rec(als_data,item,n=5)[1]))"
   ]
  },
  {
   "cell_type": "code",
   "execution_count": 54,
   "metadata": {},
   "outputs": [
    {
     "data": {
      "text/plain": [
       "<sqlite3.Cursor at 0x7eff93161180>"
      ]
     },
     "execution_count": 54,
     "metadata": {},
     "output_type": "execute_result"
    }
   ],
   "source": [
    "c.execute('''DROP TABLE ur_rec''')"
   ]
  },
  {
   "cell_type": "code",
   "execution_count": 55,
   "metadata": {},
   "outputs": [
    {
     "data": {
      "text/plain": [
       "<sqlite3.Cursor at 0x7eff93161180>"
      ]
     },
     "execution_count": 55,
     "metadata": {},
     "output_type": "execute_result"
    }
   ],
   "source": [
    "c.execute('''CREATE TABLE ur_rec (name text, rec text, scores text)''')"
   ]
  },
  {
   "cell_type": "code",
   "execution_count": 56,
   "metadata": {
    "collapsed": true
   },
   "outputs": [],
   "source": [
    "for item in users_sample:\n",
    "    c.execute(\"INSERT INTO ur_rec VALUES ('%s','%s', '%s')\" % (item,ur_give_rec(pred_ur,item,n=5)[0],ur_give_rec(pred_ur,item,n=5)[1]))\n",
    "    \n",
    "\n"
   ]
  },
  {
   "cell_type": "code",
   "execution_count": null,
   "metadata": {
    "collapsed": true
   },
   "outputs": [],
   "source": [
    "t=('',)"
   ]
  },
  {
   "cell_type": "code",
   "execution_count": 73,
   "metadata": {
    "collapsed": true
   },
   "outputs": [],
   "source": [
    "for x,y,z in c.execute('SELECT * FROM als_rec_sample WHERE name=?',t):\n",
    "    print(x)\n",
    "    print(y)\n",
    "    print(z)"
   ]
  },
  {
   "cell_type": "code",
   "execution_count": 57,
   "metadata": {},
   "outputs": [
    {
     "name": "stdout",
     "output_type": "stream",
     "text": [
      "('michcioperz', '{\"links\": [\"https://github.com/k4m4/terminals-are-sexy\", \"https://github.com/aguinet/wannakey\", \"https://github.com/gentilkiwi/wanakiwi\", \"https://github.com/s0lst1c3/eaphammer\", \"https://github.com/GoogleChrome/puppeteer\"]}', '{\"scores\": [\"0.1941\", \"0.1905\", \"0.1893\", \"0.1585\", \"0.1452\"]}')\n",
      "('iver56', '{\"links\": [\"https://github.com/dhammack/DSB2017\", \"https://github.com/caocuong0306/awesome-object-proposals\", \"https://github.com/juliandewit/kaggle_ndsb2017\", \"https://github.com/YadiraF/GAN\", \"https://github.com/hunkim/DeepLearningZeroToAll\"]}', '{\"scores\": [\"0.5218\", \"0.5215\", \"0.5086\", \"0.4288\", \"0.4276\"]}')\n",
      "('T-Rex', '{\"links\": [\"https://github.com/laotan7237/EasyReader\", \"https://github.com/andremion/Louvre\", \"https://github.com/googlesamples/android-architecture-components\", \"https://github.com/zhangyuChen1991/Roll3DImageView\", \"https://github.com/yarolegovich/SlidingRootNav\"]}', '{\"scores\": [\"0.4860\", \"0.4347\", \"0.3984\", \"0.3536\", \"0.3202\"]}')\n",
      "('skyleronken', '{\"links\": [\"https://github.com/FuzzySecurity/DefCon25\", \"https://github.com/DonnchaC/shadowbrokers-exploits\", \"https://github.com/zerosum0x0/koadic\", \"https://github.com/edwardz246003/IIS_exploit\", \"https://github.com/secrary/InjectProc\"]}', '{\"scores\": [\"0.8609\", \"0.8401\", \"0.8401\", \"0.8401\", \"0.8320\"]}')\n",
      "('amaanite890', '{\"links\": [\"https://github.com/udacity/CarND-Semantic-Segmentation\", \"https://github.com/udacity/RoboND-Rover-Project\", \"https://github.com/udacity/aind2-cnn\", \"https://github.com/udacity/Android_Me\", \"https://github.com/udacity/CarND-MPC-Project\"]}', '{\"scores\": [\"1.5653\", \"1.4533\", \"1.1626\", \"1.1374\", \"1.1357\"]}')\n",
      "('andyeskridge', '{\"links\": [\"https://github.com/veltman/flubber\", \"https://github.com/developit/unfetch\", \"https://github.com/vadimdemedes/ink\", \"https://github.com/developit/mitt\", \"https://github.com/hyperapp/hyperapp\"]}', '{\"scores\": [\"0.7395\", \"0.5088\", \"0.3107\", \"0.2978\", \"0.2963\"]}')\n",
      "('miofthena', '{\"links\": [\"https://github.com/Microsoft/TypeScript-React-Starter\", \"https://github.com/developit/mitt\", \"https://github.com/misterch0c/shadowbroker\", \"https://github.com/google/tamperchrome\", \"https://github.com/junyanz/CycleGAN\"]}', '{\"scores\": [\"0.2097\", \"0.1553\", \"0.1418\", \"0.1088\", \"0.1061\"]}')\n",
      "('wrahim', '{\"links\": [\"https://github.com/kamranahmedse/developer-roadmap\", \"https://github.com/bmorelli25/Become-A-Full-Stack-Web-Developer\", \"https://github.com/zhaohaodang/vue-WeChat\", \"https://github.com/huzidaha/react-naive-book\", \"https://github.com/sdmg15/Best-websites-a-programmer-should-visit\"]}', '{\"scores\": [\"0.2247\", \"0.1697\", \"0.1401\", \"0.1078\", \"0.0900\"]}')\n",
      "('Xu-TikT', '{\"links\": [\"https://github.com/woxingxiao/GracefulMovies\", \"https://github.com/MatthiasRobbers/shortbread\", \"https://github.com/andremion/Louvre\", \"https://github.com/Blankj/AndroidStandardDevelop\", \"https://github.com/zhangyuChen1991/Roll3DImageView\"]}', '{\"scores\": [\"0.6325\", \"0.4409\", \"0.4253\", \"0.4047\", \"0.3880\"]}')\n",
      "('jescalan', '{\"links\": [\"https://github.com/developit/unfetch\", \"https://github.com/react-community/create-react-native-app\", \"https://github.com/developit/mitt\", \"https://github.com/google/tamperchrome\", \"https://github.com/veltman/flubber\"]}', '{\"scores\": [\"0.3328\", \"0.2722\", \"0.2656\", \"0.2142\", \"0.2031\"]}')\n"
     ]
    }
   ],
   "source": [
    "for row in c.execute(\"SELECT * FROM ur_rec\"):\n",
    "    print(row)"
   ]
  },
  {
   "cell_type": "code",
   "execution_count": 58,
   "metadata": {
    "collapsed": true
   },
   "outputs": [],
   "source": [
    "conn.commit()\n",
    "conn.close()"
   ]
  },
  {
   "cell_type": "code",
   "execution_count": 19,
   "metadata": {
    "collapsed": true
   },
   "outputs": [],
   "source": [
    "sc.stop()"
   ]
  },
  {
   "cell_type": "code",
   "execution_count": null,
   "metadata": {
    "collapsed": true
   },
   "outputs": [],
   "source": []
  }
 ],
 "metadata": {
  "kernelspec": {
   "display_name": "Python 3",
   "language": "python",
   "name": "python3"
  },
  "language_info": {
   "codemirror_mode": {
    "name": "ipython",
    "version": 3
   },
   "file_extension": ".py",
   "mimetype": "text/x-python",
   "name": "python",
   "nbconvert_exporter": "python",
   "pygments_lexer": "ipython3",
   "version": "3.6.1"
  }
 },
 "nbformat": 4,
 "nbformat_minor": 2
}
